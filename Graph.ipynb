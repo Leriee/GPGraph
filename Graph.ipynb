{
 "cells": [
  {
   "cell_type": "code",
   "execution_count": null,
   "metadata": {},
   "outputs": [
    {
     "ename": "",
     "evalue": "",
     "output_type": "error",
     "traceback": [
      "\u001b[1;31mRunning cells with 'env (Python 3.11.3)' requires the ipykernel package.\n",
      "\u001b[1;31mRun the following command to install 'ipykernel' into the Python environment. \n",
      "\u001b[1;31mCommand: 'c:/Users/VAAAAAAAAL/Downloads/Graph_Diploma/env/Scripts/python.exe -m pip install ipykernel -U --force-reinstall'"
     ]
    }
   ],
   "source": [
    "#find and save all the text data from pdf\n",
    "import PyPDF2\n",
    "# Открытие PDF-файла\n",
    "with open('/Graph_Diploma/Report.pdf', 'rb') as file:\n",
    "# Создание объекта для работы с PDF\n",
    "    pdf_reader = PyPDF2.PdfReader(file)\n",
    "# Получение количества страниц в документе\n",
    "    num_pages = len(pdf_reader.pages)\n",
    "# Извлечение текста со всех страниц\n",
    "    text = \"\"\n",
    "\n",
    "#Запись всего извлеченного текста в переменную\n",
    "    for page_num in range(num_pages):\n",
    "        page = pdf_reader.pages[page_num]\n",
    "        text += page.extract_text()\n",
    "#Разбиваем текст на части по строкам\n",
    "text= text.split('\\n')\n",
    "\n",
    "print (text)"
   ]
  },
  {
   "cell_type": "code",
   "execution_count": null,
   "metadata": {},
   "outputs": [
    {
     "ename": "",
     "evalue": "",
     "output_type": "error",
     "traceback": [
      "\u001b[1;31mRunning cells with 'env (Python 3.11.3)' requires the ipykernel package.\n",
      "\u001b[1;31mRun the following command to install 'ipykernel' into the Python environment. \n",
      "\u001b[1;31mCommand: 'c:/Users/VAAAAAAAAL/Downloads/Graph_Diploma/env/Scripts/python.exe -m pip install ipykernel -U --force-reinstall'"
     ]
    }
   ],
   "source": [
    "#extract data from file with policies and audit's result\n",
    "import pandas as pd\n",
    "\n",
    "dfk = pd.read_csv('Windowsfinal.csv')\n",
    "\n",
    "Compare = dfk['Group policy']\n",
    "\n",
    "print (Compare)\n",
    "\n"
   ]
  },
  {
   "cell_type": "code",
   "execution_count": null,
   "metadata": {},
   "outputs": [
    {
     "ename": "",
     "evalue": "",
     "output_type": "error",
     "traceback": [
      "\u001b[1;31mRunning cells with 'env (Python 3.11.3)' requires the ipykernel package.\n",
      "\u001b[1;31mRun the following command to install 'ipykernel' into the Python environment. \n",
      "\u001b[1;31mCommand: 'c:/Users/VAAAAAAAAL/Downloads/Graph_Diploma/env/Scripts/python.exe -m pip install ipykernel -U --force-reinstall'"
     ]
    }
   ],
   "source": [
    "#find group policies in the text of pdf-report using keywords\n",
    "List_of_phrase = ['Максимальный срок', 'Минимальная длина', 'Брандмауэр Windows', 'Минимальный срок', 'Время до', 'Порог блокировки', 'Продолжительность', 'погрешность', 'локальный', 'отключить изменение', 'ограниченным', 'Правила установщика Windows', 'копию', 'поведением', 'запуск', 'Запретить пользователям', 'одновременных', 'ожидающих', 'дисковые', 'Определить', 'устранения', 'Съемные' ]\n",
    "\n",
    "\n",
    "Compare_list = []\n",
    "\n",
    "for line in text:\n",
    "    for item in List_of_phrase:\n",
    "        if (item in line):\n",
    "            for c in Compare:\n",
    "                if (item in c):\n",
    "                    Compare_list.append(c)\n",
    "\n",
    "#Compare_list= set(Compare_list)\n",
    "print (Compare_list)\n",
    "print (len(Compare_list))\n",
    "Compare_list = set(Compare_list)\n",
    "Compare_list = list(Compare_list)\n",
    "print (len(Compare_list))"
   ]
  },
  {
   "cell_type": "code",
   "execution_count": null,
   "metadata": {},
   "outputs": [
    {
     "ename": "",
     "evalue": "",
     "output_type": "error",
     "traceback": [
      "\u001b[1;31mRunning cells with 'env (Python 3.11.3)' requires the ipykernel package.\n",
      "\u001b[1;31mRun the following command to install 'ipykernel' into the Python environment. \n",
      "\u001b[1;31mCommand: 'c:/Users/VAAAAAAAAL/Downloads/Graph_Diploma/env/Scripts/python.exe -m pip install ipykernel -U --force-reinstall'"
     ]
    }
   ],
   "source": [
    "#match functional security requirements to group policies using keywords\n",
    "fmt_mtd = ['действия','Время','Продолжительность']\n",
    "\n",
    "listS =[]\n",
    "for l in Compare_list:\n",
    "    if 'копию' in l:\n",
    "        listS.append ('FAU_STG.3         Действия в случае возможной потери данных аудита')\n",
    "    if 'размера' in l:\n",
    "        listS.append ('FAU_STG.4 Предотвращение потери данных аудита')\n",
    "    if 'Брандмауэр' in l:\n",
    "        listS.append ('FDP_IFC.2 Полное управление информационными потоками')\n",
    "    if 'установ' in l:\n",
    "        listS.append ('FDP_RSI_EXT.1 Управление установкой программного обеспечения ')\n",
    "    if 'Порог блокировки' in l:\n",
    "        listS.append ('FIA_AFL.1 Обработка отказов аутентификации')\n",
    "    if 'Минимальная длина пароля' in l:\n",
    "        listS.append ('FIA_SOS.1 Верификация секретов')\n",
    "    if 'ограниченным доступом' in l:\n",
    "        listS.append ('FMT_SMR.1 Роли безопасности ')\n",
    "    if  'отключить изменение пароля учетных записей компьютера' in l:\n",
    "        listS.append ('FIA_SOS.1 Верификация секретов')\n",
    "    if  'синхронизации' in l:\n",
    "        listS.append ('FPT_STM.1 Надежные метки времени')\n",
    "    if  'подключений'in l:\n",
    "        listS.append ('FTA_MCS.2 Ограничение на параллельные сеансы по атрибутам пользователя')\n",
    "    if  'обработки'in l:\n",
    "        listS.append ('FRU_PRS.1 Ограниченный приоритет обслуживания')\n",
    "    if  'квот'in l:\n",
    "        listS.append ('FRU_RSA.1 Максимальные квоты')\n",
    "    if  'локальный'in l:\n",
    "        listS.append ('FTA_TSE.1 Открытие сеанса с объектом оценки')\n",
    "    if  'диски'in l:\n",
    "        listS.append ('FPT_ACF_EXT.1 Управление доступом к компонентам операционной системы')\n",
    "    if  'рисков'in l:\n",
    "        listS.append ('FPO_DFS_EXT.1 Изоляция процессов')\n",
    "    if  'запуск'in l:\n",
    "        listS.append ('FDP_RSP_EXT.2 Контроль запуска компонентов программного обеспечения')\n",
    "    for elem in fmt_mtd:\n",
    "        if elem in l:\n",
    "            listS.append ('FMT_MTD.2 Управление ограничениями данных ФБО')\n",
    "\n",
    "print (Compare_list)\n",
    "print (listS)\n"
   ]
  },
  {
   "cell_type": "code",
   "execution_count": null,
   "metadata": {},
   "outputs": [
    {
     "ename": "",
     "evalue": "",
     "output_type": "error",
     "traceback": [
      "\u001b[1;31mRunning cells with 'env (Python 3.11.3)' requires the ipykernel package.\n",
      "\u001b[1;31mRun the following command to install 'ipykernel' into the Python environment. \n",
      "\u001b[1;31mCommand: 'c:/Users/VAAAAAAAAL/Downloads/Graph_Diploma/env/Scripts/python.exe -m pip install ipykernel -U --force-reinstall'"
     ]
    }
   ],
   "source": [
    "#match information security measures to group policies using keywords\n",
    "listd = []\n",
    "for l in Compare_list:\n",
    "    if 'журнала' in l:\n",
    "        listd.append ('A 12.4.1 - регистрация событий')\n",
    "    if 'установ' in l:\n",
    "        listd.append ('A 12.5.1 - установка программного обеспечения в эксплуатируемых системах')\n",
    "    if 'Минимальная длина пароля' in l:\n",
    "        listd.append ('A 9.4.3 - система управления паролей')\n",
    "    if 'изменение пароля учетных ' in l:\n",
    "        listd.append ('A 9.4.3 - система управления паролей')\n",
    "    if 'Порог блокировки учетной записи' in l:\n",
    "        listd.append ('A 9.4.1 - ограничение доступа к информации')\n",
    "    if 'Группа с ограниченным доступом' in l:\n",
    "        listd.append ('A 9.4.1 - ограничение доступа к информации')\n",
    "    if 'Запретить локальный вход' in l:\n",
    "        listd.append ('A 9.4.1 - ограничение доступа к информации')\n",
    "    if 'квот' in l:\n",
    "        listd.append ('А 12.1.3 - управление производительностью')\n",
    "    if 'рисков процесса' in l:\n",
    "        listd.append ('А 12.1.3 - управление производительностью')\n",
    "    if 'Брандмауэр' in l:\n",
    "        listd.append ('A 13.1.2 - безопасность сетевых ресурсов')\n",
    "    if 'синхронизации' in l:\n",
    "        listd.append ('A 12.4.4 - синхронизация часов')\n",
    "    if 'одновременных подключений' in l:\n",
    "        listd.append ('А 9.2.2 - предоставление пользователю прав доступа')\n",
    "    if 'обработки' in l:\n",
    "        listd.append ('А 9.1.2 - доступ к сетям и сетевым сервисам')\n",
    "    if 'диски' in l:\n",
    "        listd.append ('A 9.1.1 – политика управления доступом')\n",
    "    if 'запуск' in l:\n",
    "        listd.append ('A 12.6.2 - ограничения на установку программного обеспечения')\n",
    "    \n",
    "    for elem in fmt_mtd:\n",
    "        if elem in l:\n",
    "            listd.append ('А 9.2.6 - Аннулирование или корректировка прав доступа')\n",
    "\n",
    "print (listd)\n",
    "print (Compare_list)"
   ]
  },
  {
   "cell_type": "code",
   "execution_count": null,
   "metadata": {},
   "outputs": [
    {
     "ename": "",
     "evalue": "",
     "output_type": "error",
     "traceback": [
      "\u001b[1;31mRunning cells with 'env (Python 3.11.3)' requires the ipykernel package.\n",
      "\u001b[1;31mRun the following command to install 'ipykernel' into the Python environment. \n",
      "\u001b[1;31mCommand: 'c:/Users/VAAAAAAAAL/Downloads/Graph_Diploma/env/Scripts/python.exe -m pip install ipykernel -U --force-reinstall'"
     ]
    }
   ],
   "source": [
    "#define groups for group policies using keywords\n",
    "listk = []\n",
    "for l in Compare_list:\n",
    "    if 'журнала' in l:\n",
    "        listk.append('Обработка и хранение событий')\n",
    "    if 'блокировки' in l:\n",
    "        listk.append('Контроль доступа')\n",
    "    if 'пароля' in l:\n",
    "        listk.append('Контроль доступа')\n",
    "    if 'доступом' in l:\n",
    "        listk.append('Меры повышения информационной безопасности')\n",
    "    if 'синхронизации'in l:\n",
    "        listk.append('Меры повышения информационной безопасности')\n",
    "    if 'Брандмауэр'in l:\n",
    "        listk.append('Меры повышения информационной безопасности')\n",
    "    if 'рисков' in l:\n",
    "        listk.append('Меры повышения информационной безопасности')\n",
    "    if 'запуск' in l:\n",
    "        listk.append('Меры повышения информационной безопасности')\n",
    "    if 'установщик' in l:\n",
    "        listk.append('Ограничения использования возможностей системы')\n",
    "    if 'Ограничение' in l:\n",
    "        listk.append('Ограничения использования возможностей системы')\n",
    "    if 'подключений' in l:\n",
    "        listk.append('Ограничения для пользователей')\n",
    "    \n",
    "    if 'квот' in l:\n",
    "        listk.append('Оптимизация системы')\n",
    "\n",
    "    if 'вход' in l:\n",
    "        listk.append('Ограничения для пользователей')\n",
    "    if 'диски' in l:\n",
    "        listk.append('Ограничение доступа к файлам и устройствам')\n",
    "\n",
    "print (listk)\n",
    "print (Compare_list)"
   ]
  },
  {
   "cell_type": "code",
   "execution_count": null,
   "metadata": {},
   "outputs": [
    {
     "ename": "",
     "evalue": "",
     "output_type": "error",
     "traceback": [
      "\u001b[1;31mRunning cells with 'env (Python 3.11.3)' requires the ipykernel package.\n",
      "\u001b[1;31mRun the following command to install 'ipykernel' into the Python environment. \n",
      "\u001b[1;31mCommand: 'c:/Users/VAAAAAAAAL/Downloads/Graph_Diploma/env/Scripts/python.exe -m pip install ipykernel -U --force-reinstall'"
     ]
    }
   ],
   "source": [
    "#define levels for group policy using keywords\n",
    "levs =[]\n",
    "for it in Compare_list:\n",
    "    if ('локальный вход' in it):\n",
    "        levs.append ('Локальный')\n",
    "    elif('отключить' in it):\n",
    "        levs.append ('Локальный')\n",
    "    else:\n",
    "        levs.append ('Подразделение')\n",
    "\n",
    "print (levs)\n"
   ]
  },
  {
   "cell_type": "code",
   "execution_count": null,
   "metadata": {},
   "outputs": [
    {
     "ename": "",
     "evalue": "",
     "output_type": "error",
     "traceback": [
      "\u001b[1;31mRunning cells with 'env (Python 3.11.3)' requires the ipykernel package.\n",
      "\u001b[1;31mRun the following command to install 'ipykernel' into the Python environment. \n",
      "\u001b[1;31mCommand: 'c:/Users/VAAAAAAAAL/Downloads/Graph_Diploma/env/Scripts/python.exe -m pip install ipykernel -U --force-reinstall'"
     ]
    }
   ],
   "source": [
    "import pandas as pd\n",
    "\n",
    "#create dictionaries for dataframe\n",
    "dictt = {'Level': levs, 'Group_Policies': Compare_list, 'Groups': listk, 'Security measures': listd, 'Functional requirements': listS}\n",
    "\n",
    "#create dataframe    \n",
    "df = pd.DataFrame(dictt)\n",
    "#save the dataframe to csv-file     \n",
    "df.to_csv('applied.csv')"
   ]
  },
  {
   "cell_type": "code",
   "execution_count": null,
   "metadata": {},
   "outputs": [
    {
     "ename": "",
     "evalue": "",
     "output_type": "error",
     "traceback": [
      "\u001b[1;31mRunning cells with 'env (Python 3.11.3)' requires the ipykernel package.\n",
      "\u001b[1;31mRun the following command to install 'ipykernel' into the Python environment. \n",
      "\u001b[1;31mCommand: 'c:/Users/VAAAAAAAAL/Downloads/Graph_Diploma/env/Scripts/python.exe -m pip install ipykernel -U --force-reinstall'"
     ]
    }
   ],
   "source": [
    "#create graph using file with all the groups and levels\n",
    "\n",
    "import networkx as nx \n",
    "\n",
    "dfT = pd.read_csv('try2.csv')\n",
    "dfT.head()\n",
    "\n",
    "G = nx.DiGraph()\n",
    "G = nx.from_pandas_edgelist(dfT, \n",
    "                            source = \"levels\", \n",
    "                            target = \"groups\", \n",
    "                            create_using = nx.Graph())\n",
    "\n",
    "G.edges()\n",
    "\n",
    "\n"
   ]
  },
  {
   "cell_type": "code",
   "execution_count": null,
   "metadata": {},
   "outputs": [
    {
     "ename": "",
     "evalue": "",
     "output_type": "error",
     "traceback": [
      "\u001b[1;31mRunning cells with 'env (Python 3.11.3)' requires the ipykernel package.\n",
      "\u001b[1;31mRun the following command to install 'ipykernel' into the Python environment. \n",
      "\u001b[1;31mCommand: 'c:/Users/VAAAAAAAAL/Downloads/Graph_Diploma/env/Scripts/python.exe -m pip install ipykernel -U --force-reinstall'"
     ]
    }
   ],
   "source": [
    "#change color if the nodes\n",
    "lev = dfT['levels'].tolist()\n",
    "\n",
    "for node in G.nodes():\n",
    "    for l in lev:\n",
    "        if node == l:\n",
    "            G.nodes[l]['size'] = 15\n",
    "            if node =='Локальный':\n",
    "                G.nodes[l]['color'] = '#FFC30B'\n",
    "            if node =='Подразделение':\n",
    "                G.nodes[l]['color'] = '#355E3B'\n"
   ]
  },
  {
   "cell_type": "code",
   "execution_count": null,
   "metadata": {},
   "outputs": [
    {
     "ename": "",
     "evalue": "",
     "output_type": "error",
     "traceback": [
      "\u001b[1;31mRunning cells with 'env (Python 3.11.3)' requires the ipykernel package.\n",
      "\u001b[1;31mRun the following command to install 'ipykernel' into the Python environment. \n",
      "\u001b[1;31mCommand: 'c:/Users/VAAAAAAAAL/Downloads/Graph_Diploma/env/Scripts/python.exe -m pip install ipykernel -U --force-reinstall'"
     ]
    }
   ],
   "source": [
    "#Create graph with group and group policies connections \n",
    "K = nx.DiGraph()\n",
    "\n",
    "K = nx.from_pandas_edgelist(df, \n",
    "                            source = \"Groups\", \n",
    "                            target = \"Group_Policies\",\n",
    "                            #edge_attr = \"days\" - may will use later,\n",
    "                            create_using = nx.Graph())\n",
    "\n",
    "K.edges()"
   ]
  },
  {
   "cell_type": "code",
   "execution_count": null,
   "metadata": {},
   "outputs": [
    {
     "ename": "",
     "evalue": "",
     "output_type": "error",
     "traceback": [
      "\u001b[1;31mRunning cells with 'env (Python 3.11.3)' requires the ipykernel package.\n",
      "\u001b[1;31mRun the following command to install 'ipykernel' into the Python environment. \n",
      "\u001b[1;31mCommand: 'c:/Users/VAAAAAAAAL/Downloads/Graph_Diploma/env/Scripts/python.exe -m pip install ipykernel -U --force-reinstall'"
     ]
    }
   ],
   "source": [
    "#compose two graphs by using group's'nodes\n",
    "G.add_nodes_from(K)\n",
    "G.add_edges_from(K.edges)\n",
    "\n",
    "#change colors of the nodes\n",
    "for node in G.nodes():\n",
    "    for l in Compare_list:\n",
    "        if node == l:\n",
    "            if 'изменение' in node:\n",
    "                G.nodes[l]['color'] = '#FFC30B'\n",
    "            elif 'локальный' in node:\n",
    "                G.nodes[l]['color'] = '#FFC30B'\n",
    "            else:\n",
    "                G.nodes[l]['color'] = '#355E3B'\n",
    "\n"
   ]
  },
  {
   "cell_type": "code",
   "execution_count": null,
   "metadata": {},
   "outputs": [
    {
     "ename": "",
     "evalue": "",
     "output_type": "error",
     "traceback": [
      "\u001b[1;31mRunning cells with 'env (Python 3.11.3)' requires the ipykernel package.\n",
      "\u001b[1;31mRun the following command to install 'ipykernel' into the Python environment. \n",
      "\u001b[1;31mCommand: 'c:/Users/VAAAAAAAAL/Downloads/Graph_Diploma/env/Scripts/python.exe -m pip install ipykernel -U --force-reinstall'"
     ]
    }
   ],
   "source": [
    "from pyvis.network import Network\n",
    "net = Network(notebook = True, width=\"1000px\", height=\"700px\", bgcolor='white', font_color='black')\n",
    "\n",
    "#pos = nx.spring_layout(G, k=0.4, iterations=100)\n",
    "\n",
    "net.from_nx(G)\n",
    "\n",
    "net.show(\"Graph.html\")\n"
   ]
  }
 ],
 "metadata": {
  "kernelspec": {
   "display_name": "env",
   "language": "python",
   "name": "python3"
  },
  "language_info": {
   "codemirror_mode": {
    "name": "ipython",
    "version": 3
   },
   "file_extension": ".py",
   "mimetype": "text/x-python",
   "name": "python",
   "nbconvert_exporter": "python",
   "pygments_lexer": "ipython3",
   "version": "3.11.3"
  }
 },
 "nbformat": 4,
 "nbformat_minor": 2
}
